{
  "nbformat": 4,
  "nbformat_minor": 0,
  "metadata": {
    "colab": {
      "provenance": []
    },
    "kernelspec": {
      "name": "python3",
      "display_name": "Python 3"
    },
    "language_info": {
      "name": "python"
    }
  },
  "cells": [
    {
      "cell_type": "code",
      "source": [
        "import random as r\n",
        "\n",
        "# Product list with prices\n",
        "ProductList = {\n",
        "    'p1': 10, 'p2': 15, 'p3': 20, 'p4': 25, 'p5': 30, 'p6': 35, 'p7': 50,\n",
        "}\n",
        "\n",
        "# Define lower bound (LB) and upper bound (UB)\n",
        "LB = 5\n",
        "UB = 60\n",
        "\n",
        "ResultList = set()   # Store Result List i.e. list of sets whose sum is between 290 and 310.\n",
        "Iterations = 1000    # Number of iterations\n",
        "\n",
        "# Start program\n",
        "for i in range(Iterations):\n",
        "    # Select combo size (i.e. number of products in a combo)\n",
        "    SetSize = r.randint(2, len(ProductList)-1)\n",
        "\n",
        "    # Select elements from ProductList\n",
        "    ComboList = r.sample(list(ProductList.keys()), SetSize)\n",
        "    ComboList.sort()\n",
        "\n",
        "    # Sum the products in ComboList\n",
        "    ComboSum = sum(ProductList[product] for product in ComboList)\n",
        "\n",
        "    # Check if the sum is between LB and UB\n",
        "    if LB <= ComboSum <= UB:\n",
        "        ResultList.add(tuple(ComboList))\n",
        "\n",
        "# Print all the sets whose sum is between LB and UB\n",
        "for result in ResultList:\n",
        "    print(result)\n",
        "\n",
        "# Print total sets\n",
        "print(\"\\nTotal Sets:\", len(ResultList))\n"
      ],
      "metadata": {
        "colab": {
          "base_uri": "https://localhost:8080/"
        },
        "id": "yKuPprTeq8DC",
        "outputId": "b0303b02-d9b8-493d-f257-69fadd40bd76"
      },
      "execution_count": null,
      "outputs": [
        {
          "output_type": "stream",
          "name": "stdout",
          "text": [
            "('p2', 'p4')\n",
            "('p2', 'p5')\n",
            "('p4', 'p5')\n",
            "('p1', 'p3')\n",
            "('p1', 'p6')\n",
            "('p1', 'p4')\n",
            "('p1', 'p5')\n",
            "('p1', 'p2')\n",
            "('p1', 'p7')\n",
            "('p3', 'p6')\n",
            "('p2', 'p3', 'p4')\n",
            "('p1', 'p2', 'p3')\n",
            "('p1', 'p2', 'p6')\n",
            "('p1', 'p3', 'p4')\n",
            "('p3', 'p4')\n",
            "('p1', 'p3', 'p5')\n",
            "('p3', 'p5')\n",
            "('p2', 'p3')\n",
            "('p2', 'p6')\n",
            "('p1', 'p2', 'p4')\n",
            "('p1', 'p2', 'p5')\n",
            "('p4', 'p6')\n",
            "\n",
            "Total Sets: 22\n"
          ]
        }
      ]
    }
  ]
}